{
  "nbformat": 4,
  "nbformat_minor": 0,
  "metadata": {
    "colab": {
      "provenance": [],
      "authorship_tag": "ABX9TyOctPX36kG1kA+7RxATnoPb",
      "include_colab_link": true
    },
    "kernelspec": {
      "name": "python3",
      "display_name": "Python 3"
    },
    "language_info": {
      "name": "python"
    }
  },
  "cells": [
    {
      "cell_type": "markdown",
      "metadata": {
        "id": "view-in-github",
        "colab_type": "text"
      },
      "source": [
        "<a href=\"https://colab.research.google.com/github/Ayushi-creator/Module-4/blob/main/Module4.ipynb\" target=\"_parent\"><img src=\"https://colab.research.google.com/assets/colab-badge.svg\" alt=\"Open In Colab\"/></a>"
      ]
    },
    {
      "cell_type": "markdown",
      "source": [
        "**MODULE 4 TASK**\n",
        "\n",
        "---\n",
        "\n",
        "\n"
      ],
      "metadata": {
        "id": "2qM7kpVvh0f-"
      }
    },
    {
      "cell_type": "markdown",
      "source": [
        "# TASK1"
      ],
      "metadata": {
        "id": "KWa62icwiC3o"
      }
    },
    {
      "cell_type": "code",
      "source": [
        "from collections import deque\n",
        "\n",
        "def canMeasureWater(jug1_capacity, jug2_capacity, target_amount):\n",
        "    # Initialize an empty queue and add the initial state (0, 0)\n",
        "    queue = deque([(0, 0)])\n",
        "    visited = set()\n",
        "\n",
        "    while queue:\n",
        "        x, y = queue.popleft()\n",
        "        if x == target_amount:\n",
        "            return True  # Solution found\n",
        "\n",
        "        # Generate valid neighbors\n",
        "        neighbors = [\n",
        "            (jug1_capacity, y),  # Fill the first jug\n",
        "            (x, jug2_capacity),  # Fill the second jug\n",
        "            (x - min(x, jug2_capacity - y), y + min(x, jug2_capacity - y)),  # Pour from first to second\n",
        "            (x + min(y, jug1_capacity - x), y - min(y, jug1_capacity - x)),  # Pour from second to first\n",
        "            (0, y),  # Empty the first jug\n",
        "            (x, 0),  # Empty the second jug\n",
        "        ]\n",
        "\n",
        "        for nx, ny in neighbors:\n",
        "            if (nx, ny) not in visited:\n",
        "                queue.append((nx, ny))\n",
        "                visited.add((nx, ny))\n",
        "\n",
        "    return False  # Solution not found\n",
        "\n",
        "# Example usage:\n",
        "jug1_capacity = 4\n",
        "jug2_capacity = 3\n",
        "target_amount = 2\n",
        "print(canMeasureWater(jug1_capacity, jug2_capacity, target_amount))"
      ],
      "metadata": {
        "colab": {
          "base_uri": "https://localhost:8080/",
          "height": 0
        },
        "id": "VGW6IO6lhzuz",
        "outputId": "747e91cc-9c3d-49fd-851e-073210aefbc5"
      },
      "execution_count": 1,
      "outputs": [
        {
          "output_type": "stream",
          "name": "stdout",
          "text": [
            "True\n"
          ]
        }
      ]
    },
    {
      "cell_type": "markdown",
      "source": [
        "# TASK 2"
      ],
      "metadata": {
        "id": "dYn2Fy3WikXU"
      }
    },
    {
      "cell_type": "code",
      "source": [
        "from collections import deque\n",
        "def is_valid_state(state):\n",
        "    missionaries_left, cannibals_left, boat, missionaries_right, cannibals_right = state\n",
        "\n",
        "    if (missionaries_left < 0 or cannibals_left < 0 or\n",
        "        missionaries_right < 0 or cannibals_right < 0 or\n",
        "        (missionaries_left != 0 and missionaries_left < cannibals_left) or\n",
        "        (missionaries_right != 0 and missionaries_right < cannibals_right)):\n",
        "        return False\n",
        "    return True\n",
        "def get_neighbors(state):\n",
        "    moves = [(1, 0), (2, 0), (0, 1), (0, 2), (1, 1)]\n",
        "    neighbors = []\n",
        "\n",
        "    for move in moves:\n",
        "        missionaries_left, cannibals_left, boat, missionaries_right, cannibals_right = state\n",
        "        d_m, d_c = move\n",
        "\n",
        "        if boat == 0:\n",
        "            missionaries_left -= d_m\n",
        "            cannibals_left -= d_c\n",
        "            missionaries_right += d_m\n",
        "            cannibals_right += d_c\n",
        "        else:\n",
        "            missionaries_left += d_m\n",
        "            cannibals_left += d_c\n",
        "            missionaries_right -= d_m\n",
        "            cannibals_right -= d_c\n",
        "\n",
        "        new_state = (missionaries_left, cannibals_left, 1 - boat, missionaries_right, cannibals_right)\n",
        "\n",
        "        if is_valid_state(new_state):\n",
        "            neighbors.append(new_state)\n",
        "\n",
        "    return neighbors\n",
        "def bfs():\n",
        "    initial_state = (3, 3, 0, 0, 0)\n",
        "    goal_state = (0, 0, 1, 3, 3)\n",
        "\n",
        "    visited = set()\n",
        "    queue = deque([(initial_state, [])])\n",
        "\n",
        "    while queue:\n",
        "        current_state, path = queue.popleft()\n",
        "\n",
        "        if current_state == goal_state:\n",
        "            return path\n",
        "\n",
        "        if current_state not in visited:\n",
        "            visited.add(current_state)\n",
        "            neighbors = get_neighbors(current_state)\n",
        "\n",
        "            for neighbor in neighbors:\n",
        "                if neighbor not in visited:\n",
        "                    queue.append((neighbor, path + [current_state]))\n",
        "\n",
        "    return None\n",
        "solution = bfs()\n",
        "if solution:\n",
        "    for i, state in enumerate(solution):\n",
        "        print(f\"Step {i + 1}: {state}\")\n",
        "else:\n",
        "    print(\"No solution found.\")"
      ],
      "metadata": {
        "colab": {
          "base_uri": "https://localhost:8080/",
          "height": 0
        },
        "id": "HRDj7mQ7i07j",
        "outputId": "09a47bdc-fb3d-4760-f81b-162b173afb0b"
      },
      "execution_count": 2,
      "outputs": [
        {
          "output_type": "stream",
          "name": "stdout",
          "text": [
            "Step 1: (3, 3, 0, 0, 0)\n",
            "Step 2: (3, 1, 1, 0, 2)\n",
            "Step 3: (3, 2, 0, 0, 1)\n",
            "Step 4: (3, 0, 1, 0, 3)\n",
            "Step 5: (3, 1, 0, 0, 2)\n",
            "Step 6: (1, 1, 1, 2, 2)\n",
            "Step 7: (2, 2, 0, 1, 1)\n",
            "Step 8: (0, 2, 1, 3, 1)\n",
            "Step 9: (0, 3, 0, 3, 0)\n",
            "Step 10: (0, 1, 1, 3, 2)\n",
            "Step 11: (1, 1, 0, 2, 2)\n"
          ]
        }
      ]
    },
    {
      "cell_type": "markdown",
      "source": [],
      "metadata": {
        "id": "FpN4xzBOh0G2"
      }
    }
  ]
}